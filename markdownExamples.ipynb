{
 "cells": [
  {
   "cell_type": "markdown",
   "metadata": {},
   "source": [
    "# learning outcomes\n",
    "\n",
    "By the end of the session, students will be able to\n",
    "\n",
    "1. **Understand the Purpose and Importance of README Files**\n",
    "   - Students will be able to explain the role of README files in software projects.\n",
    "   - Students will understand the conventions of what information a README should typically contain.\n",
    "\n",
    "2. **Master Basic Markdown Syntax**\n",
    "   - Students will demonstrate the ability to use headers, lists, emphasis, and other basic Markdown formatting to create structured documents.\n",
    "\n",
    "3. **Implement Advanced Markdown Elements**\n",
    "   - Students will be able to incorporate tables, code blocks, images, and links into a Markdown document.\n",
    "\n",
    "4. **Create a README File for a Software Project**\n",
    "   - Students will be able to create a comprehensive README for a given software project that includes a title, description, installation instructions, usage examples, and contact information.\n",
    "\n",
    "5. **Apply Documentation Best Practices**\n",
    "   - Students will learn and apply best practices for writing clear, concise, and helpful documentation."
   ]
  },
  {
   "cell_type": "markdown",
   "metadata": {},
   "source": [
    "You should replace the URLs and text with your own content. \n",
    "Also, the syntax for code blocks (the triple backticks) may not display properly in this explanation because they are used to delimit code blocks themselves. \n",
    "When using them, you only need the backticks without the angle brackets."
   ]
  },
  {
   "cell_type": "markdown",
   "metadata": {},
   "source": [
    "### Headers\n",
    "Headers are used to denote section headings. Markdown supports six levels of headers, which correspond to `<h1>` through `<h6>` tags in HTML.\n",
    "\n",
    "```markdown\n",
    "# H1 - The largest header\n",
    "## H2\n",
    "### H3\n",
    "#### H4\n",
    "##### H5\n",
    "###### H6 - The smallest header\n",
    "```\n"
   ]
  },
  {
   "cell_type": "markdown",
   "metadata": {},
   "source": [
    "\n",
    "### Emphasis\n",
    "Emphasis allows you to make text italic or bold.\n",
    "\n",
    "```markdown\n",
    "*This text will be italic*\n",
    "_This will also be italic_\n",
    "\n",
    "**This text will be bold**\n",
    "__This will also be bold__\n",
    "\n",
    "_You **can** combine them_\n",
    "```\n"
   ]
  },
  {
   "cell_type": "markdown",
   "metadata": {},
   "source": [
    "\n",
    "### Lists\n",
    "Lists are a way to organize items either unordered or ordered.\n"
   ]
  },
  {
   "cell_type": "markdown",
   "metadata": {},
   "source": [
    "\n",
    "#### Unordered\n",
    "Use asterisks, pluses, or hyphens interchangeably as list markers.\n",
    "\n",
    "```markdown\n",
    "* Item 1\n",
    "* Item 2\n",
    "  * Item 2a\n",
    "  * Item 2b\n",
    "```\n"
   ]
  },
  {
   "cell_type": "markdown",
   "metadata": {},
   "source": [
    "\n",
    "#### Ordered\n",
    "Ordered lists use numbers followed by periods.\n",
    "\n",
    "```markdown\n",
    "1. Item 1\n",
    "2. Item 2\n",
    "3. Item 3\n",
    "   1. Item 3a\n",
    "   2. Item 3b\n",
    "```\n"
   ]
  },
  {
   "cell_type": "markdown",
   "metadata": {},
   "source": [
    "\n",
    "### Images\n",
    "Images can be included with the following syntax. The \"alt text\" is shown if the image fails to load, and \"Title\" is optional.\n",
    "\n",
    "```markdown\n",
    "![alt text](http://url/to/image.jpg \"Title\")\n",
    "```\n"
   ]
  },
  {
   "cell_type": "markdown",
   "metadata": {},
   "source": [
    "\n",
    "### Links\n",
    "Links can be created to navigate to other web pages or resources.\n",
    "\n",
    "```markdown\n",
    "[Link text](http://url)\n",
    "```\n"
   ]
  },
  {
   "cell_type": "markdown",
   "metadata": {},
   "source": [
    "\n",
    "### Blockquotes\n",
    "Blockquotes are used for quoting blocks of text, like email replies.\n",
    "\n",
    "```markdown\n",
    "> Blockquote\n",
    "```\n"
   ]
  },
  {
   "cell_type": "markdown",
   "metadata": {},
   "source": [
    "\n",
    "### Inline Code\n",
    "For small segments of code, you can surround the text with backticks.\n",
    "\n",
    "```markdown\n",
    "`code` span\n",
    "```\n"
   ]
  },
  {
   "cell_type": "markdown",
   "metadata": {},
   "source": [
    "\n",
    "### Code Blocks\n",
    "For longer or multiline snippets of code, you can use fenced code blocks with three backticks or indent with four spaces.\n",
    "\n",
    "``` markdown\n",
    "``` language\n",
    "code block\n",
    "```\n",
    "\n",
    "```\n"
   ]
  },
  {
   "cell_type": "markdown",
   "metadata": {},
   "source": [
    "\n",
    "### Tables\n",
    "Tables organize data into rows and columns.\n",
    "\n",
    "```markdown\n",
    "| Heading 1 | Heading 2 | Heading 3 |\n",
    "| --------- | --------- | --------- |\n",
    "| Cell 1    | Cell 2    | Cell 3    |\n",
    "| Cell 4    | Cell 5    | Cell 6    |\n",
    "| Cell 7    | Cell 8    | Cell 9    |\n",
    "```\n"
   ]
  },
  {
   "cell_type": "markdown",
   "metadata": {},
   "source": [
    "\n",
    "### Strikethrough\n",
    "Strikethrough lets you cross words out.\n",
    "\n",
    "```markdown\n",
    "~~Strikethrough~~\n",
    "```\n"
   ]
  },
  {
   "cell_type": "markdown",
   "metadata": {},
   "source": [
    "\n",
    "### Horizontal Rule\n",
    "Horizontal rules are used to separate sections with a thematic change.\n",
    "\n",
    "```markdown\n",
    "---\n",
    "```\n",
    "\n",
    "or\n",
    "\n",
    "```markdown\n",
    "***\n",
    "```\n"
   ]
  },
  {
   "cell_type": "markdown",
   "metadata": {},
   "source": [
    "\n",
    "### Escaping Characters\n",
    "If you want to show a literal character that Markdown uses for formatting, you can escape it with a backslash.\n",
    "\n",
    "```markdown\n",
    "\\*Literal asterisks\\*\n",
    "```\n"
   ]
  },
  {
   "cell_type": "markdown",
   "metadata": {},
   "source": [
    "\n",
    "### Task Lists\n",
    "Task lists allow you to create to-do lists or task lists with checkboxes.\n",
    "\n",
    "```markdown\n",
    "- [x] Task 1\n",
    "- [ ] Task 2\n",
    "- [ ] Task 3\n",
    "```\n"
   ]
  },
  {
   "cell_type": "markdown",
   "metadata": {},
   "source": [
    "\n",
    "### Footnotes\n",
    "Footnotes let you add notes and references without cluttering the body of the document.\n",
    "\n",
    "```markdown\n",
    "Here's a sentence with a footnote. [^1]\n",
    "\n",
    "[^1]: This is the footnote.\n",
    "```\n"
   ]
  },
  {
   "cell_type": "markdown",
   "metadata": {},
   "source": [
    "\n",
    "### Automatic URL Linking\n",
    "URLs can be automatically linked by wrapping them in angle brackets.\n",
    "\n",
    "```markdown\n",
    "<http://www.example.com>\n",
    "```\n",
    "\n"
   ]
  },
  {
   "cell_type": "markdown",
   "metadata": {},
   "source": [
    "# Examples\n",
    "The following examples demonstrate how you may use Markdown for developing documentation of a personal profile page."
   ]
  },
  {
   "cell_type": "markdown",
   "metadata": {},
   "source": [
    "\n",
    "### Example: Headers\n",
    "Use headers to structure your profile page, with the largest header `#` as your main title, and smaller headers for subsections.\n",
    "\n",
    "```markdown\n",
    "# Your Name\n",
    "\n",
    "## About Me\n",
    "\n",
    "### Education\n",
    "\n",
    "#### Work Experience\n",
    "\n",
    "##### Skills\n",
    "\n",
    "###### Interests\n",
    "```\n"
   ]
  },
  {
   "cell_type": "markdown",
   "metadata": {},
   "source": [
    "\n",
    "### Example: Emphasis\n",
    "Emphasize certain aspects of your profile to draw attention.\n",
    "\n",
    "```markdown\n",
    "*Currently learning Full Stack Web Development*\n",
    "_I am passionate about technology and design_\n",
    "\n",
    "**12 years of industry experience**\n",
    "__Specialized in Project Management__\n",
    "\n",
    "_I **love** to combine creativity with code_\n",
    "```\n"
   ]
  },
  {
   "cell_type": "markdown",
   "metadata": {},
   "source": [
    "### Example: Lists\n",
    "Organize your qualifications, skills, or hobbies.\n"
   ]
  },
  {
   "cell_type": "markdown",
   "metadata": {},
   "source": [
    "\n",
    "#### Unordered\n",
    "List your hobbies or skills without a particular order.\n",
    "\n",
    "```markdown\n",
    "* Web Development\n",
    "* Graphic Design\n",
    "  * Photoshop\n",
    "  * Illustrator\n",
    "* Cooking\n",
    "```\n"
   ]
  },
  {
   "cell_type": "markdown",
   "metadata": {},
   "source": [
    "\n",
    "#### Ordered\n",
    "List your work experience or education in chronological order.\n",
    "\n",
    "```markdown\n",
    "1. Bachelors in Computer Science\n",
    "2. Masters in Data Science\n",
    "3. PhD in Computer Science\n",
    "```\n"
   ]
  },
  {
   "cell_type": "markdown",
   "metadata": {},
   "source": [
    "\n",
    "### Example: Images\n",
    "Show a professional headshot or a personal logo.\n",
    "\n",
    "```markdown\n",
    "![Your Name](http://url/to/profilePhoto.jpg \"Your Photo\")\n",
    "```\n"
   ]
  },
  {
   "cell_type": "markdown",
   "metadata": {},
   "source": [
    "\n",
    "### Example: Links\n",
    "Link to your professional social media profiles or personal website.\n",
    "\n",
    "```markdown\n",
    "[LinkedIn Profile](http://linkedin.com/in/yourProfile)\n",
    "[Portfolio](http://yourLink.com)\n",
    "```\n"
   ]
  },
  {
   "cell_type": "markdown",
   "metadata": {},
   "source": [
    "### Example: Blockquotes\n",
    "Include a favorite quote or personal motto.\n",
    "\n",
    "```markdown\n",
    "> \"Strive not to be a success, but rather to be of value.\" – Albert Einstein\n",
    "```\n"
   ]
  },
  {
   "cell_type": "markdown",
   "metadata": {},
   "source": [
    "\n",
    "### Example: Inline Code\n",
    "Mention specific programming languages or technologies you’re familiar with.\n",
    "\n",
    "```markdown\n",
    "Proficient in `JavaScript`, `Python`, and `Ruby on Rails`.\n",
    "```\n"
   ]
  },
  {
   "cell_type": "markdown",
   "metadata": {},
   "source": [
    "### Example: Code Blocks\n",
    "If you have code snippets in your portfolio, present them neatly.\n",
    "\n",
    "```markdown\n",
    "```javascript\n",
    "function greet() {\n",
    "  console.log(\"Hello, world!\");\n",
    "}\n",
    "```\n",
    "```\n"
   ]
  },
  {
   "cell_type": "markdown",
   "metadata": {},
   "source": [
    "### Example: Tables\n",
    "Organize your skills or experience into a neat table.\n",
    "\n",
    "```markdown\n",
    "| Year | Position      | Company     |\n",
    "| ---- | ------------- | ----------- |\n",
    "| 2010 | Intern        | Tech Corp   |\n",
    "| 2012 | Junior Dev    | Web Innovate|\n",
    "| 2015 | Project Lead  | DesignPros  |\n",
    "| 2020 | Senior Dev    | The Code Hub|\n",
    "```\n"
   ]
  },
  {
   "cell_type": "markdown",
   "metadata": {},
   "source": [
    "\n",
    "### Example: Strikethrough\n",
    "Show progression, such as outdated skills or old job positions.\n",
    "\n",
    "```markdown\n",
    "~~Front-end Development~~ (I now specialize in full-stack development)\n",
    "```\n"
   ]
  },
  {
   "cell_type": "markdown",
   "metadata": {},
   "source": [
    "\n",
    "### Example: Horizontal Rule\n",
    "Use horizontal rules to visually separate different sections of your profile.\n",
    "\n",
    "```markdown\n",
    "---\n",
    "\n",
    "### Work Experience\n",
    "\n",
    "---\n",
    "\n",
    "### Projects\n",
    "\n",
    "---\n",
    "```\n"
   ]
  },
  {
   "cell_type": "markdown",
   "metadata": {},
   "source": [
    "\n",
    "### Example: Escaping Characters\n",
    "Display literal Markdown characters.\n",
    "\n",
    "```markdown\n",
    "Learning to code was better than I ever imagined: \\*exciting\\*, \\*challenging\\*, and \\*rewarding\\*.\n",
    "```\n",
    "\n",
    "\n",
    "### Work Experience\n",
    "\n",
    "---\n",
    "\n",
    "\n",
    "### Projects\n",
    "\n",
    "---\n",
    "```\n"
   ]
  },
  {
   "cell_type": "markdown",
   "metadata": {},
   "source": [
    "\n",
    "### Example: Escaping Characters\n",
    "Display literal Markdown characters.\n",
    "\n",
    "```markdown\n",
    "Learning to code was better than I ever imagined: \\*exciting\\*, \\*challenging\\*, and \\*rewarding\\*.\n",
    "```\n"
   ]
  },
  {
   "cell_type": "markdown",
   "metadata": {},
   "source": [
    "### Example: Task Lists\n",
    "List down certifications you are planning to complete or goals.\n",
    "\n",
    "```markdown\n",
    "- [x] Complete my web development course\n",
    "- [ ] Get certified in cloud services\n",
    "- [ ] Learn a new language\n",
    "```\n"
   ]
  },
  {
   "cell_type": "markdown",
   "metadata": {},
   "source": [
    "\n",
    "### Example: Footnotes\n",
    "Add footnotes to elaborate on projects or experiences without cluttering the main content.\n",
    "\n",
    "```markdown\n",
    "I lead a successful redesign of the company website, which resulted in a 30% increase in conversions.[^1]\n",
    "\n",
    "[^1]: The project involved a complete overhaul of the user experience, making the site more intuitive and user-friendly.\n",
    "```\n"
   ]
  },
  {
   "cell_type": "markdown",
   "metadata": {},
   "source": [
    "### Example: Automatic URL Linking\n",
    "Provide a quick link to your email or a website.\n",
    "\n",
    "```markdown\n",
    "<mailto:YourPage@example.com>\n",
    "<http://www.YourPage.com>\n",
    "```\n",
    "\n",
    "This profile uses a range of Markdown features to present information in an organized and engaging manner. Adjust the content to suit your personal details and professional achievements."
   ]
  }
 ],
 "metadata": {
  "language_info": {
   "name": "python"
  }
 },
 "nbformat": 4,
 "nbformat_minor": 2
}
